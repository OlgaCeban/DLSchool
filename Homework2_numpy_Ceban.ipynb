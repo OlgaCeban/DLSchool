{
  "nbformat": 4,
  "nbformat_minor": 0,
  "metadata": {
    "colab": {
      "name": "Homework2_numpy_Ceban.ipynb",
      "provenance": [],
      "collapsed_sections": [],
      "include_colab_link": true
    },
    "kernelspec": {
      "display_name": "Python 3",
      "language": "python",
      "name": "python3"
    },
    "language_info": {
      "codemirror_mode": {
        "name": "ipython",
        "version": 3
      },
      "file_extension": ".py",
      "mimetype": "text/x-python",
      "name": "python",
      "nbconvert_exporter": "python",
      "pygments_lexer": "ipython3",
      "version": "3.7.3"
    }
  },
  "cells": [
    {
      "cell_type": "markdown",
      "metadata": {
        "id": "view-in-github",
        "colab_type": "text"
      },
      "source": [
        "<a href=\"https://colab.research.google.com/github/OlgaCeban/DLSchool/blob/master/Homework2_numpy_Ceban.ipynb\" target=\"_parent\"><img src=\"https://colab.research.google.com/assets/colab-badge.svg\" alt=\"Open In Colab\"/></a>"
      ]
    },
    {
      "cell_type": "markdown",
      "metadata": {
        "colab_type": "text",
        "id": "KxIquH6GK7kt"
      },
      "source": [
        "<p style=\"align: center;\"><img align=center src=\"https://s8.hostingkartinok.com/uploads/images/2018/08/308b49fcfbc619d629fe4604bceb67ac.jpg\" width=500 height=450/></p>\n",
        "\n",
        "<h3 style=\"text-align: center;\"><b>\"Глубокое обучение\". Продвинутый поток</b></h3>\n",
        "\n",
        "<h2 style=\"text-align: center;\"><b> Решение домашнего задания 2. Библиотека Numpy и линейная алгебра.\n",
        "</b></h2>"
      ]
    },
    {
      "cell_type": "markdown",
      "metadata": {
        "colab_type": "text",
        "id": "h8gsBtzoGEhe"
      },
      "source": [
        "---"
      ]
    },
    {
      "cell_type": "code",
      "metadata": {
        "colab_type": "code",
        "id": "YEJ8DQ4QK7kx",
        "colab": {}
      },
      "source": [
        "import numpy as np\n",
        "import random\n",
        "import scipy.stats as sps"
      ],
      "execution_count": 0,
      "outputs": []
    },
    {
      "cell_type": "markdown",
      "metadata": {
        "colab_type": "text",
        "id": "5_eFZpeoK7k2"
      },
      "source": [
        "### Numpy"
      ]
    },
    {
      "cell_type": "markdown",
      "metadata": {
        "colab_type": "text",
        "id": "hYXhVX0eK7k2"
      },
      "source": [
        "### Задание 1\n",
        "В первой задаче вам предлагается перемножить две квадратные матрицы двумя способами -- без использования пакета ***numpy*** и с ним."
      ]
    },
    {
      "cell_type": "code",
      "metadata": {
        "colab_type": "code",
        "id": "zJR8EANzK7k3",
        "outputId": "b06428aa-aed2-43ef-8d4a-26af88143f44",
        "colab": {
          "base_uri": "https://localhost:8080/",
          "height": 252
        }
      },
      "source": [
        "# Для генерации матриц используем фукнцию random -- она используется для генерации случайных объектов \n",
        "# функция sample создает случайную выборку. В качестве аргумента ей передается кортеж (i,j),  \n",
        "# здесь i -- число строк, j -- число столбцов.\n",
        "a = np.random.sample((100, 100))\n",
        "b = np.random.sample((100, 100))\n",
        "# выведите размерность (ранг) каждой матрицы с помощью функции ndim.\n",
        "# Используйте функцию shape, что она вывела?\n",
        "# ========\n",
        "# Ваш код здесь\n",
        "# ========\n",
        "print(a)\n",
        "print(b)"
      ],
      "execution_count": 0,
      "outputs": [
        {
          "output_type": "stream",
          "text": [
            "[[0.50578972 0.68942086 0.78460004 ... 0.93622056 0.63604331 0.61562001]\n",
            " [0.26591344 0.14679466 0.64635091 ... 0.36602084 0.82206985 0.84107433]\n",
            " [0.08397927 0.09263253 0.045046   ... 0.33374774 0.47310233 0.68387767]\n",
            " ...\n",
            " [0.75155099 0.47363193 0.88952324 ... 0.63911116 0.18082952 0.08329731]\n",
            " [0.05762691 0.49904798 0.77408279 ... 0.80704321 0.04617682 0.11822681]\n",
            " [0.11011658 0.10032256 0.87415102 ... 0.55414769 0.02549952 0.25404226]]\n",
            "[[0.40785361 0.59013672 0.63264767 ... 0.02347765 0.2674053  0.49873723]\n",
            " [0.37649895 0.21690424 0.07785161 ... 0.94126837 0.01071446 0.8437515 ]\n",
            " [0.97318485 0.03931985 0.15486525 ... 0.74925417 0.2249628  0.10181338]\n",
            " ...\n",
            " [0.19724808 0.36658889 0.43155329 ... 0.44713798 0.84157774 0.30096784]\n",
            " [0.83634484 0.83244519 0.86411437 ... 0.8781818  0.05116327 0.35490846]\n",
            " [0.39315371 0.39466363 0.92781184 ... 0.18842432 0.55720732 0.53388231]]\n"
          ],
          "name": "stdout"
        }
      ]
    },
    {
      "cell_type": "code",
      "metadata": {
        "colab_type": "code",
        "id": "bkWCI4TPK7k8",
        "colab": {}
      },
      "source": [
        "def mult(a, b):\n",
        "    result = [[0 for row in range(len(b[0]))] for col in range(len(a))]\n",
        "\n",
        "    for i in range(len(a)):\n",
        "        for j in range(len(b[0])):\n",
        "            for k in range(len(a[0])):\n",
        "                result[i][j] += a[i][k] * b[k][j]\n",
        "    return result"
      ],
      "execution_count": 0,
      "outputs": []
    },
    {
      "cell_type": "code",
      "metadata": {
        "colab_type": "code",
        "id": "IIgYD1W5K7lB",
        "colab": {}
      },
      "source": [
        "def np_mult(a, b):  \n",
        "    return a.dot(b)"
      ],
      "execution_count": 0,
      "outputs": []
    },
    {
      "cell_type": "code",
      "metadata": {
        "colab_type": "code",
        "id": "tktkYzUHK7lE",
        "outputId": "e7b167f0-2edc-4462-fd8c-408637870bf3",
        "colab": {
          "base_uri": "https://localhost:8080/",
          "height": 50
        }
      },
      "source": [
        "%%time\n",
        "# засечем время работы функции без NumPy\n",
        "M1 = mult(a, b)"
      ],
      "execution_count": 0,
      "outputs": [
        {
          "output_type": "stream",
          "text": [
            "CPU times: user 643 ms, sys: 2.49 ms, total: 646 ms\n",
            "Wall time: 653 ms\n"
          ],
          "name": "stdout"
        }
      ]
    },
    {
      "cell_type": "code",
      "metadata": {
        "colab_type": "code",
        "id": "TmD0adgHK7lK",
        "outputId": "098fa89f-b946-4b46-b129-d2b3990ddeb6",
        "colab": {
          "base_uri": "https://localhost:8080/",
          "height": 50
        }
      },
      "source": [
        "%%time\n",
        "# засечем время работы функции с NumPy\n",
        "M2 = np_mult(a, b)"
      ],
      "execution_count": 0,
      "outputs": [
        {
          "output_type": "stream",
          "text": [
            "CPU times: user 2.17 ms, sys: 0 ns, total: 2.17 ms\n",
            "Wall time: 11.9 ms\n"
          ],
          "name": "stdout"
        }
      ]
    },
    {
      "cell_type": "code",
      "metadata": {
        "colab_type": "code",
        "id": "oftqyANQK7lS",
        "outputId": "92c04983-afcc-4cb4-b065-4f08dd2f37fb",
        "colab": {
          "base_uri": "https://localhost:8080/",
          "height": 34
        }
      },
      "source": [
        "# проверим корректность\n",
        "np.abs(np.array(M1) - M2).sum()"
      ],
      "execution_count": 0,
      "outputs": [
        {
          "output_type": "execute_result",
          "data": {
            "text/plain": [
              "1.333688715021708e-11"
            ]
          },
          "metadata": {
            "tags": []
          },
          "execution_count": 11
        }
      ]
    },
    {
      "cell_type": "markdown",
      "metadata": {
        "colab_type": "text",
        "id": "2itTyTlcaHAu"
      },
      "source": [
        "### Задание 2"
      ]
    },
    {
      "cell_type": "markdown",
      "metadata": {
        "colab_type": "text",
        "id": "BCemQSq-aEbO"
      },
      "source": [
        "Вам подаются на вход два вектора `a` и `b` в трехмерном пространстве. Заполните их случайными числами. Реализуйте их скалярное произведение с помощью  `NumPy` и без. Засеките время работы, как это показано в заданиях выше."
      ]
    },
    {
      "cell_type": "code",
      "metadata": {
        "colab_type": "code",
        "id": "lWhr_gPSZ9o_",
        "outputId": "db1561e0-ae06-4f7b-d9f4-a3a8607858b5",
        "colab": {
          "base_uri": "https://localhost:8080/",
          "height": 34
        }
      },
      "source": [
        "a = np.random.sample((1, 3))\n",
        "a = list(a)[0]\n",
        "b = np.random.sample((1, 3))\n",
        "b = list(b)[0]\n",
        "print(a, b)"
      ],
      "execution_count": 0,
      "outputs": [
        {
          "output_type": "stream",
          "text": [
            "[0.24392502 0.61120147 0.23243419] [0.8951791  0.32628044 0.54345229]\n"
          ],
          "name": "stdout"
        }
      ]
    },
    {
      "cell_type": "code",
      "metadata": {
        "colab_type": "code",
        "id": "GjlkcHIWZ_ae",
        "colab": {}
      },
      "source": [
        "def scalar_product(a,b):\n",
        "    return a[0]*b[0] + a[1]*b[1] + a[2]*b[2]"
      ],
      "execution_count": 0,
      "outputs": []
    },
    {
      "cell_type": "code",
      "metadata": {
        "colab_type": "code",
        "id": "C2M-OAp5Z_6a",
        "colab": {}
      },
      "source": [
        "def np_scalar_product(a,b):\n",
        "    return np.dot(a, b)"
      ],
      "execution_count": 0,
      "outputs": []
    },
    {
      "cell_type": "code",
      "metadata": {
        "colab_type": "code",
        "id": "BOQfYf-2aCQJ",
        "scrolled": true,
        "outputId": "926b46c8-9f51-4a1b-9c9d-3f2f9637d715",
        "colab": {
          "base_uri": "https://localhost:8080/",
          "height": 101
        }
      },
      "source": [
        "%time product_1 = scalar_product(a,b)\n",
        "%time product_2 = np_scalar_product(a,b)\n",
        "# проверим корректность:\n",
        "np.abs(product_1 - product_2).sum()"
      ],
      "execution_count": 0,
      "outputs": [
        {
          "output_type": "stream",
          "text": [
            "CPU times: user 23 µs, sys: 5 µs, total: 28 µs\n",
            "Wall time: 30.3 µs\n",
            "CPU times: user 24 µs, sys: 4 µs, total: 28 µs\n",
            "Wall time: 31.5 µs\n"
          ],
          "name": "stdout"
        },
        {
          "output_type": "execute_result",
          "data": {
            "text/plain": [
              "0.0"
            ]
          },
          "metadata": {
            "tags": []
          },
          "execution_count": 15
        }
      ]
    },
    {
      "cell_type": "markdown",
      "metadata": {
        "colab_type": "text",
        "id": "NHaHu6q1K7mH"
      },
      "source": [
        "Почему методы ***numpy*** оказываются эффективнее? Что вы можете сказать о скорости вычислений в NumPy?"
      ]
    },
    {
      "cell_type": "markdown",
      "metadata": {
        "id": "StLAtJ-tQlfR",
        "colab_type": "text"
      },
      "source": [
        "------------------"
      ]
    },
    {
      "cell_type": "markdown",
      "metadata": {
        "colab_type": "text",
        "id": "_A3p2s4eK7mI"
      },
      "source": [
        "**Ответ:** Скорость вычислений вектоных и матричных операций в NumPy сильно превосходит скорость вычислений без него, по большей части потому, что функции numpy работаю с массивами данных одного типа (числовыми), это позволяет реализовать встроенные функции numpy на C/C++, что, конечно, делает numpy быстрее (функции, которые вызывает Numpy для работы с числовыми данными, сильно оптимизированы именно под эти задачи, а сам Python просто гоняет интерпретатор по циклу в таких операциях, что является чуть ли не самым большим замедлением в работе интерпретатора)."
      ]
    },
    {
      "cell_type": "markdown",
      "metadata": {
        "colab_type": "text",
        "id": "mJXeUuznK7lm"
      },
      "source": [
        "### Задание 3\n",
        "Напишите функцию, которая находим сумму четных диагональныех элементов квадратной матрицы. Если таких элементов нет, то вывести `0`."
      ]
    },
    {
      "cell_type": "code",
      "metadata": {
        "id": "MjxKxv-bQlfW",
        "colab_type": "code",
        "colab": {}
      },
      "source": [
        "# функция, решающая задачу с помощью NumPy\n",
        "def np_diag_2k(a):\n",
        "  b = np.asarray(a)\n",
        "  b = np.diagonal(b)\n",
        "  result = 0\n",
        "  for i in range(len(b)):\n",
        "    if b[i] % 2 == 0:\n",
        "      result += b[i]\n",
        "  return result"
      ],
      "execution_count": 0,
      "outputs": []
    },
    {
      "cell_type": "code",
      "metadata": {
        "id": "h_oazhcNQlfZ",
        "colab_type": "code",
        "outputId": "6cdceb36-d4aa-4f21-af1a-97fd65359a0f",
        "colab": {
          "base_uri": "https://localhost:8080/",
          "height": 101
        }
      },
      "source": [
        "# зададим некоторую квадратную матрицу\n",
        "a = np.random.randint(1, 10, size=(5, 5))\n",
        "a"
      ],
      "execution_count": 0,
      "outputs": [
        {
          "output_type": "execute_result",
          "data": {
            "text/plain": [
              "array([[9, 1, 4, 3, 4],\n",
              "       [1, 4, 8, 1, 1],\n",
              "       [5, 2, 7, 1, 4],\n",
              "       [5, 9, 8, 9, 8],\n",
              "       [1, 2, 6, 5, 6]])"
            ]
          },
          "metadata": {
            "tags": []
          },
          "execution_count": 18
        }
      ]
    },
    {
      "cell_type": "code",
      "metadata": {
        "id": "_9jg1CuWQlfc",
        "colab_type": "code",
        "outputId": "2dce29db-16ec-4134-98e3-7397569eef72",
        "colab": {
          "base_uri": "https://localhost:8080/",
          "height": 67
        }
      },
      "source": [
        "%%time\n",
        "# засечем время работы функции с NumPy\n",
        "np_diag_2k(a)"
      ],
      "execution_count": 0,
      "outputs": [
        {
          "output_type": "stream",
          "text": [
            "CPU times: user 60 µs, sys: 11 µs, total: 71 µs\n",
            "Wall time: 76.5 µs\n"
          ],
          "name": "stdout"
        },
        {
          "output_type": "execute_result",
          "data": {
            "text/plain": [
              "10"
            ]
          },
          "metadata": {
            "tags": []
          },
          "execution_count": 100
        }
      ]
    },
    {
      "cell_type": "markdown",
      "metadata": {
        "colab_type": "text",
        "id": "D-N46M-tQlff"
      },
      "source": [
        "### Задание 4\n",
        "На вход дан двумерный массив $X$. Напишите функцию, которая для каждой строчки $x = (x_1, x_2, \\ldots, x_n)$ массива $X$  строит строчку $s = (s_1, s_2, \\ldots, s_n)$, где s_k=\\frac{x_1+...+x_k}{k}, а затем выдаёт массив из построенных строчек. Используйте библиотеку numpy (вам поможет функция cumsum). Выходом функции должен быть двумерный массив той же формы, что и $X$."
      ]
    },
    {
      "cell_type": "code",
      "metadata": {
        "colab_type": "code",
        "id": "REgL39ksK7lr",
        "colab": {}
      },
      "source": [
        "# функция, решающая задачу с помощью NumPy\n",
        "def np_sec_av(A):\n",
        "    return np.cumsum(A, axis=1)"
      ],
      "execution_count": 0,
      "outputs": []
    },
    {
      "cell_type": "code",
      "metadata": {
        "colab_type": "code",
        "id": "HcVN8MagK7lw",
        "outputId": "c060e115-be93-4367-81ae-36d59ed7f364",
        "colab": {
          "base_uri": "https://localhost:8080/",
          "height": 269
        }
      },
      "source": [
        "# зададим некоторую последовательность и проверим ее на ваших функциях. \n",
        "# функция должна работать ~ в 50 раз быстрее, чем без Numpy\n",
        "A = sps.uniform.rvs(size=(10**3,10**3)) \n",
        "\n",
        "%time S2 = np_sec_av(A)"
      ],
      "execution_count": 0,
      "outputs": [
        {
          "output_type": "stream",
          "text": [
            "[[8.62481127e-01 4.26504331e-01 8.66992930e-01 ... 9.77493204e-01\n",
            "  8.40220595e-01 5.48377240e-01]\n",
            " [1.05512689e+00 9.43362685e-01 1.00094827e+00 ... 1.42436898e+00\n",
            "  1.10477499e+00 9.22841379e-01]\n",
            " [1.73959208e+00 1.47402449e+00 1.23231061e+00 ... 1.85458738e+00\n",
            "  2.00386238e+00 1.65933217e+00]\n",
            " ...\n",
            " [5.07167435e+02 5.06800474e+02 5.02874072e+02 ... 4.99437192e+02\n",
            "  4.82448301e+02 4.92741722e+02]\n",
            " [5.07668266e+02 5.07444361e+02 5.03492418e+02 ... 4.99681653e+02\n",
            "  4.82451702e+02 4.93570728e+02]\n",
            " [5.08204034e+02 5.07937852e+02 5.04100700e+02 ... 5.00471648e+02\n",
            "  4.82817659e+02 4.94558482e+02]]\n",
            "CPU times: user 17.3 ms, sys: 8 µs, total: 17.3 ms\n",
            "Wall time: 16.4 ms\n"
          ],
          "name": "stdout"
        }
      ]
    },
    {
      "cell_type": "markdown",
      "metadata": {
        "id": "2InIez3ZQlfw",
        "colab_type": "text"
      },
      "source": [
        "### Задание 5\n",
        "Написать функцию для кодирование массива (Run-length encoding). Все подряд повторения элементов функция сжимает в один элемент и считает количество повторений. Функция возвращает кортеж из двух векторов одинаковой длины. Первый содержит элементы, а второй — сколько раз их нужно повторить. \n",
        "\n",
        "Пример: encode(np.array([1, 2, 2, 3, 3, 1, 1, 5, 5, 2, 3, 3])) = (np.array[1, 2, 3, 1, 5, 2, 3]), np.array[1, 2, 2, 2, 2, 1, 2])"
      ]
    },
    {
      "cell_type": "code",
      "metadata": {
        "id": "3G4DKWeoQlfx",
        "colab_type": "code",
        "colab": {}
      },
      "source": [
        "# функция, решающая задачу с помощью NumPy\n",
        "def np_encode(a):\n",
        "    count = 0 \n",
        "    if (np.diff(a) == 0):\n",
        "      count += 1\n",
        "    else:\n",
        "      count = 0\n",
        "    return <YOUR CODE>"
      ],
      "execution_count": 0,
      "outputs": []
    },
    {
      "cell_type": "code",
      "metadata": {
        "id": "zMaDQdNBQlf0",
        "colab_type": "code",
        "colab": {}
      },
      "source": [
        "X = np.array([1, 2, 2, 3, 3, 1, 1, 5, 5, 2, 3, 3])\n",
        "\n",
        "%time x, num = np_encode(X)"
      ],
      "execution_count": 0,
      "outputs": []
    },
    {
      "cell_type": "markdown",
      "metadata": {
        "colab_type": "text",
        "id": "teVCPWZmK7l5"
      },
      "source": [
        "### Задание 6\n",
        "\n",
        "Пусть задан некоторый одномерный массив $X$. Надо построить новый массив, где все элементы с нечетными индексами требуется заменить на число $a$ (если оно не указано, то на 1). Все элементы с четными индексами нужно возвести в куб. Затем записать элементы в обратном порядке относительно их позиций. Массив $X$ при этом должен остаться *без изменений*. В конце требуется слить массив X с преобразованным X и вывести в обратном порядке.  \n",
        "\n",
        "Пример:  \n",
        "X = [100, 200, 300, 400, 500] -> [100, a, 300, a, 500] -> [500^3, a, 300^3, a, 100^3] -> склеиваем -> [100, 200, 300, 400, 500, 500^3, a, 300^3, a, 100^3]"
      ]
    },
    {
      "cell_type": "code",
      "metadata": {
        "colab_type": "code",
        "id": "0hmcvfDVK7l-",
        "colab": {}
      },
      "source": [
        "# функция, решающая задачу с помощью NumPy\n",
        "from copy import copy\n",
        "def np_transformation(X, a=1):\n",
        "    param X: array[batch_size, n]\n",
        "    <YOUR CODE>\n",
        "    return <YOUR CODE>"
      ],
      "execution_count": 0,
      "outputs": []
    },
    {
      "cell_type": "code",
      "metadata": {
        "colab_type": "code",
        "id": "r2-JLMhxK7mE",
        "scrolled": true,
        "colab": {}
      },
      "source": [
        "X = np.array([i for i in range(1, 10, 2)])\n",
        "# функция должна работать ~ в 20 раз быстрее, чем без Numpy \n",
        "%time S2 = np_transformation(X, 5)"
      ],
      "execution_count": 0,
      "outputs": []
    }
  ]
}